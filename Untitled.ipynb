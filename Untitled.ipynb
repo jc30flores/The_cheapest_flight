{
 "cells": [
  {
   "cell_type": "code",
   "execution_count": null,
   "id": "8893d453",
   "metadata": {},
   "outputs": [],
   "source": [
    "from typing import List\n",
    "\n",
    "\n",
    "def cheapest_flight(costs: List, a: str, b: str) -> int:\n",
    "    #\n",
    "        #List check in se crea para agregar las listas que contienen el elemento -- a --\n",
    "    \n",
    "    #The different options of flies that we have\n",
    "    direct_fly = []\n",
    "    scale_fly = []\n",
    "    \n",
    "    #The differents flies that have each country in their\n",
    "    check_in = []\n",
    "    check_out = []\n",
    "    \n",
    "    list_cost = []\n",
    "    \n",
    "    for fly in costs:\n",
    "        if a in fly and b in fly:\n",
    "            direct_fly.append(fly)\n",
    "        elif a in fly:\n",
    "            check_in.append(fly)\n",
    "        elif b in fly:\n",
    "            check_out.append(fly)\n",
    "            \n",
    "            \n",
    "    for lst in check_in:\n",
    "        for lst_out in check_out:\n",
    "            if lst[0] in lst_out or lst[1] in lst_out:\n",
    "                scale_fly.append([lst, lst_out])\n",
    "                \n",
    "    if direct_fly:\n",
    "        for lst in direct_fly:\n",
    "            list_cost.append(lst[-1])\n",
    "            \n",
    "    if scale_fly:\n",
    "        costs_scale_fly = []\n",
    "        for lst in scale_fly:\n",
    "            cost_by_scale = 0\n",
    "            for list_ in lst:\n",
    "                cost_by_scale += list_[-1]\n",
    "            costs_scale_fly.append(cost_by_scale)\n",
    "        for cost_ in costs_scale_fly:\n",
    "            list_cost.append(cost_)\n",
    "                \n",
    "    if list_cost:\n",
    "        return min(list_cost)\n",
    "    else:\n",
    "        return 0\n",
    "\n",
    "\n",
    "if __name__ == '__main__':\n",
    "    print(\"Example:\")\n",
    "    print(cheapest_flight([['A', 'C', 100],\n",
    "  ['A', 'B', 20],\n",
    "  ['B', 'C', 50]],\n",
    " 'A',\n",
    " 'C'))\n",
    "\n",
    "    # These \"asserts\" are used for self-checking and not for an auto-testing\n",
    "    assert cheapest_flight([['A', 'C', 100],\n",
    "  ['A', 'B', 20],\n",
    "  ['B', 'C', 50]],\n",
    " 'A',\n",
    " 'C') == 70\n",
    "    assert cheapest_flight([['A', 'C', 100],\n",
    "  ['A', 'B', 20],\n",
    "  ['B', 'C', 50]],\n",
    " 'C',\n",
    " 'A') == 70\n",
    "    assert cheapest_flight([['A', 'C', 40],\n",
    "  ['A', 'B', 20],\n",
    "  ['A', 'D', 20],\n",
    "  ['B', 'C', 50],\n",
    "  ['D', 'C', 70]],\n",
    " 'D',\n",
    " 'C') == 60\n",
    "    assert cheapest_flight([['A', 'C', 100],\n",
    "  ['A', 'B', 20],\n",
    "  ['D', 'F', 900]],\n",
    " 'A',\n",
    " 'F') == 0\n",
    "    assert cheapest_flight([['A', 'B', 10],\n",
    "  ['A', 'C', 15],\n",
    "  ['B', 'D', 15],\n",
    "  ['C', 'D', 10]],\n",
    " 'A',\n",
    " 'D') == 25\n",
    "    print(\"Coding complete? Click 'Check' to earn cool rewards!\")"
   ]
  },
  {
   "cell_type": "code",
   "execution_count": 28,
   "id": "0b79d859",
   "metadata": {},
   "outputs": [],
   "source": [
    "from typing import List\n",
    "\n",
    "\n",
    "def cheapest_flight(costs: List, a: str, b: str) -> int:\n",
    "    #\n",
    "        #List check in se crea para agregar las listas que contienen el elemento -- a --\n",
    "    \n",
    "    #The different options of flies that we have\n",
    "    direct_fly = []\n",
    "    scale_fly = []\n",
    "    \n",
    "    #The differents flies that have each country in their\n",
    "    check_in = []\n",
    "    check_out = []\n",
    "    check_scale = []\n",
    "    list_cost = []\n",
    "    \n",
    "    for fly in costs:\n",
    "        if a in fly and b in fly:\n",
    "            direct_fly.append(fly)\n",
    "        elif a in fly:\n",
    "            check_in.append(fly)\n",
    "        else:\n",
    "            check_out.append(fly) \n",
    "            \n",
    "            \n",
    "    for inn in check_in:\n",
    "        new_check = [inn]\n",
    "        for out in check_out:\n",
    "            if new_check[-1][0] in out or new_check[-1][1] in out:\n",
    "                new_check.append(out)\n",
    "            \n",
    "        print(new_check)\n",
    "        check_scale.append(new_check)\n",
    "    if direct_fly:\n",
    "        for lst in direct_fly:\n",
    "            list_cost.append(lst[-1])\n",
    "            \n",
    "    if scale_fly:\n",
    "        costs_scale_fly = []\n",
    "        for lst in scale_fly:\n",
    "            cost_by_scale = 0\n",
    "            for list_ in lst:\n",
    "                cost_by_scale += list_[-1]\n",
    "            \n",
    "            costs_scale_fly.append(cost_by_scale)\n",
    "        \n",
    "        for cost_ in costs_scale_fly:\n",
    "            list_cost.append(cost_)\n",
    "            \n",
    "    print(\"Direct flies: {}, \\n\\nScale Flies: {}, \\n\\nCheck in: {}, \\n\\nCheck out: {}\".format(direct_fly, scale_fly, check_in, check_out))\n",
    "                \n",
    "    if list_cost:\n",
    "        return min(list_cost)\n",
    "    else:\n",
    "        return 0\n",
    "\n"
   ]
  },
  {
   "cell_type": "code",
   "execution_count": 29,
   "id": "dc743e53",
   "metadata": {},
   "outputs": [
    {
     "name": "stdout",
     "output_type": "stream",
     "text": [
      "[['A', 'D', 20], ['A', 'C', 40], ['A', 'B', 20], ['B', 'C', 50]]\n",
      "Direct flies: [['D', 'C', 70]], \n",
      "\n",
      "Scale Flies: [], \n",
      "\n",
      "Check in: [['A', 'D', 20]], \n",
      "\n",
      "Check out: [['A', 'C', 40], ['A', 'B', 20], ['B', 'C', 50]]\n"
     ]
    },
    {
     "data": {
      "text/plain": [
       "70"
      ]
     },
     "execution_count": 29,
     "metadata": {},
     "output_type": "execute_result"
    }
   ],
   "source": [
    "cheapest_flight([['A', 'C', 40],\n",
    "  ['A', 'B', 20],\n",
    "  ['A', 'D', 20],\n",
    "  ['B', 'C', 50],\n",
    "  ['D', 'C', 70]],\n",
    " 'D',\n",
    " 'C')"
   ]
  },
  {
   "cell_type": "code",
   "execution_count": 16,
   "id": "faa5b0b8",
   "metadata": {},
   "outputs": [
    {
     "name": "stdout",
     "output_type": "stream",
     "text": [
      "[['A', 'D', 20], ['A', 'C', 40], ['A', 'B', 20], ['B', 'C', 50]]\n",
      "Direct flies: [['D', 'C', 70]], \n",
      "\n",
      "Scale Flies: [], \n",
      "\n",
      "Check in: [['A', 'D', 20]], \n",
      "\n",
      "Check out: [['A', 'C', 40], ['A', 'B', 20], ['B', 'C', 50]]\n"
     ]
    },
    {
     "data": {
      "text/plain": [
       "70"
      ]
     },
     "execution_count": 16,
     "metadata": {},
     "output_type": "execute_result"
    }
   ],
   "source": [
    "cheapest_flight([['A', 'C', 40],\n",
    "  ['A', 'B', 20],\n",
    "  ['A', 'D', 20],\n",
    "  ['B', 'C', 50],\n",
    "  ['D', 'C', 70]],\n",
    " 'D',\n",
    " 'C')"
   ]
  },
  {
   "cell_type": "code",
   "execution_count": 17,
   "id": "a46a5ee3",
   "metadata": {},
   "outputs": [
    {
     "name": "stdout",
     "output_type": "stream",
     "text": [
      "[['A', 'C', 100]]\n",
      "[['A', 'B', 20]]\n",
      "Direct flies: [], \n",
      "\n",
      "Scale Flies: [], \n",
      "\n",
      "Check in: [['A', 'C', 100], ['A', 'B', 20]], \n",
      "\n",
      "Check out: [['D', 'F', 900]]\n"
     ]
    },
    {
     "data": {
      "text/plain": [
       "0"
      ]
     },
     "execution_count": 17,
     "metadata": {},
     "output_type": "execute_result"
    }
   ],
   "source": [
    "cheapest_flight([['A', 'C', 100],\n",
    "  ['A', 'B', 20],\n",
    "  ['D', 'F', 900]],\n",
    " 'A',\n",
    " 'F')"
   ]
  },
  {
   "cell_type": "code",
   "execution_count": 18,
   "id": "c9d0e883",
   "metadata": {},
   "outputs": [
    {
     "name": "stdout",
     "output_type": "stream",
     "text": [
      "[['A', 'B', 10], ['B', 'D', 15], ['C', 'D', 5], ['D', 'E', 5], ['E', 'F', 10], ['C', 'F', 25]]\n",
      "[['A', 'C', 20], ['C', 'D', 5], ['D', 'E', 5], ['E', 'F', 10], ['C', 'F', 25]]\n",
      "Direct flies: [], \n",
      "\n",
      "Scale Flies: [], \n",
      "\n",
      "Check in: [['A', 'B', 10], ['A', 'C', 20]], \n",
      "\n",
      "Check out: [['B', 'D', 15], ['C', 'D', 5], ['D', 'E', 5], ['E', 'F', 10], ['C', 'F', 25]]\n"
     ]
    },
    {
     "data": {
      "text/plain": [
       "0"
      ]
     },
     "execution_count": 18,
     "metadata": {},
     "output_type": "execute_result"
    }
   ],
   "source": [
    "cheapest_flight([[\"A\",\"B\",10],\n",
    "                 [\"A\",\"C\",20],\n",
    "                 [\"B\",\"D\",15],\n",
    "                 [\"C\",\"D\",5],\n",
    "                 [\"D\",\"E\",5],\n",
    "                 [\"E\",\"F\",10],\n",
    "                 [\"C\",\"F\",25]],\n",
    "                \n",
    "                \"A\",\"F\")"
   ]
  },
  {
   "cell_type": "code",
   "execution_count": null,
   "id": "14a7258b",
   "metadata": {},
   "outputs": [],
   "source": [
    "print(cheapest_flight([['A', 'C', 100],\n",
    "  ['A', 'B', 20],\n",
    "  ['B', 'C', 50]],\n",
    " 'A',\n",
    " 'C'))"
   ]
  },
  {
   "cell_type": "code",
   "execution_count": null,
   "id": "3b396773",
   "metadata": {},
   "outputs": [],
   "source": [
    "cheapest_flight([[\"A\",\"B\",10],[\"A\",\"C\",20],[\"B\",\"D\",15],[\"C\",\"D\",5],[\"D\",\"E\",5],[\"E\",\"F\",10],[\"C\",\"F\",25]],\"A\",\"F\")"
   ]
  },
  {
   "cell_type": "code",
   "execution_count": 20,
   "id": "1788ed72",
   "metadata": {},
   "outputs": [
    {
     "data": {
      "text/plain": [
       "True"
      ]
     },
     "execution_count": 20,
     "metadata": {},
     "output_type": "execute_result"
    }
   ],
   "source": [
    "list_of_list = [['b', 20, 'R'], ['E', 'Z', 30]]\n",
    "'R' in list_of_list[0]"
   ]
  },
  {
   "cell_type": "code",
   "execution_count": 23,
   "id": "e4c33ddb",
   "metadata": {},
   "outputs": [
    {
     "data": {
      "text/plain": [
       "False"
      ]
     },
     "execution_count": 23,
     "metadata": {},
     "output_type": "execute_result"
    }
   ],
   "source": [
    "any(['b', 30, 50]) in list_of_list[0]"
   ]
  },
  {
   "cell_type": "code",
   "execution_count": null,
   "id": "d057f3f0",
   "metadata": {},
   "outputs": [],
   "source": []
  }
 ],
 "metadata": {
  "kernelspec": {
   "display_name": "Python 3 (ipykernel)",
   "language": "python",
   "name": "python3"
  },
  "language_info": {
   "codemirror_mode": {
    "name": "ipython",
    "version": 3
   },
   "file_extension": ".py",
   "mimetype": "text/x-python",
   "name": "python",
   "nbconvert_exporter": "python",
   "pygments_lexer": "ipython3",
   "version": "3.9.12"
  }
 },
 "nbformat": 4,
 "nbformat_minor": 5
}
